{
 "cells": [
  {
   "attachments": {},
   "cell_type": "markdown",
   "metadata": {},
   "source": [
    "# Preprocessing data"
   ]
  },
  {
   "attachments": {},
   "cell_type": "markdown",
   "metadata": {},
   "source": [
    "## Environment"
   ]
  },
  {
   "cell_type": "code",
   "execution_count": 16,
   "metadata": {},
   "outputs": [],
   "source": [
    "import os\n",
    "import pandas as pd\n",
    "WD = \"/Users/niche/Library/CloudStorage/OneDrive-VirginiaTech/_03_Papers/find_ants/\""
   ]
  },
  {
   "cell_type": "code",
   "execution_count": 14,
   "metadata": {},
   "outputs": [],
   "source": [
    "os.chdir(os.path.join(WD, \"data\"))"
   ]
  },
  {
   "cell_type": "code",
   "execution_count": 17,
   "metadata": {},
   "outputs": [
    {
     "data": {
      "text/plain": [
       "['OHA_R.xlsx',\n",
       " '.DS_Store',\n",
       " 'test_trials',\n",
       " 'README.md',\n",
       " 'dataset.py',\n",
       " 'honey_trials_v2',\n",
       " 'honey_trials',\n",
       " 'sugar_trials',\n",
       " 'peptone_sucrose',\n",
       " 'OHA Foraging Trials.xlsx']"
      ]
     },
     "execution_count": 17,
     "metadata": {},
     "output_type": "execute_result"
    }
   ],
   "source": [
    "os.listdir(os.path.join(WD, \"data\"))"
   ]
  },
  {
   "cell_type": "code",
   "execution_count": 30,
   "metadata": {},
   "outputs": [],
   "source": [
    "path_meta = os.path.join(WD, \"data\", \"OHA Foraging Trials.xlsx\")\n",
    "dict_meta = pd.read_excel(path_meta, sheet_name=None)"
   ]
  },
  {
   "cell_type": "code",
   "execution_count": 27,
   "metadata": {},
   "outputs": [
    {
     "data": {
      "text/plain": [
       "dict_keys(['OHA Colonies', 'Set-up', 'Peptone vs Sucrose 1', 'P v S 2', 'P v S 3', 'P v S 4', 'P v S 5', 'P v S 6', 'P v S 7', 'P v S 8', 'P v S 9', 'Honey V2 Trial 1', 'Honey V2 Trial 2', 'Honey V2 Trial 3', 'Honey V2 Trial 4', 'Honey V2 Trial 5', 'Honey V2 Trial 6', 'Honey V2 Trial 7', 'Honey V2 Trial 8', 'Honey V2 Trial 9', 'Honey V2 Trial 10', 'Honey V2 Trial 11', 'Sugar 1', 'Sugar 2', 'Sugar 3', 'Sugar 4', 'Honey V1 Trial 1', 'Honey V1 Trial 2', 'Honey V1 Trial 3', 'Honey V1 Trial 4'])"
      ]
     },
     "execution_count": 27,
     "metadata": {},
     "output_type": "execute_result"
    }
   ],
   "source": [
    "dict_meta.keys()"
   ]
  },
  {
   "cell_type": "code",
   "execution_count": 32,
   "metadata": {},
   "outputs": [
    {
     "data": {
      "text/html": [
       "<div>\n",
       "<style scoped>\n",
       "    .dataframe tbody tr th:only-of-type {\n",
       "        vertical-align: middle;\n",
       "    }\n",
       "\n",
       "    .dataframe tbody tr th {\n",
       "        vertical-align: top;\n",
       "    }\n",
       "\n",
       "    .dataframe thead th {\n",
       "        text-align: right;\n",
       "    }\n",
       "</style>\n",
       "<table border=\"1\" class=\"dataframe\">\n",
       "  <thead>\n",
       "    <tr style=\"text-align: right;\">\n",
       "      <th></th>\n",
       "      <th>Photo Number G0011...</th>\n",
       "      <th>Time</th>\n",
       "      <th>Sucrose</th>\n",
       "      <th>Peptone</th>\n",
       "      <th>Total Foragers</th>\n",
       "      <th>Unnamed: 5</th>\n",
       "    </tr>\n",
       "  </thead>\n",
       "  <tbody>\n",
       "    <tr>\n",
       "      <th>0</th>\n",
       "      <td>145.0</td>\n",
       "      <td>16:32:00</td>\n",
       "      <td>0</td>\n",
       "      <td>0.0</td>\n",
       "      <td>0</td>\n",
       "      <td>NaN</td>\n",
       "    </tr>\n",
       "    <tr>\n",
       "      <th>1</th>\n",
       "      <td>146.0</td>\n",
       "      <td>17:02:00</td>\n",
       "      <td>11</td>\n",
       "      <td>2.0</td>\n",
       "      <td>13</td>\n",
       "      <td>NaN</td>\n",
       "    </tr>\n",
       "    <tr>\n",
       "      <th>2</th>\n",
       "      <td>147.0</td>\n",
       "      <td>17:32:00</td>\n",
       "      <td>8</td>\n",
       "      <td>4.0</td>\n",
       "      <td>12</td>\n",
       "      <td>NaN</td>\n",
       "    </tr>\n",
       "    <tr>\n",
       "      <th>3</th>\n",
       "      <td>148.0</td>\n",
       "      <td>18:02:00</td>\n",
       "      <td>14</td>\n",
       "      <td>11.0</td>\n",
       "      <td>25</td>\n",
       "      <td>NaN</td>\n",
       "    </tr>\n",
       "    <tr>\n",
       "      <th>4</th>\n",
       "      <td>149.0</td>\n",
       "      <td>18:32:00</td>\n",
       "      <td>12</td>\n",
       "      <td>12.0</td>\n",
       "      <td>24</td>\n",
       "      <td>NaN</td>\n",
       "    </tr>\n",
       "    <tr>\n",
       "      <th>...</th>\n",
       "      <td>...</td>\n",
       "      <td>...</td>\n",
       "      <td>...</td>\n",
       "      <td>...</td>\n",
       "      <td>...</td>\n",
       "      <td>...</td>\n",
       "    </tr>\n",
       "    <tr>\n",
       "      <th>80</th>\n",
       "      <td>225.0</td>\n",
       "      <td>1900-01-02 08:32:00</td>\n",
       "      <td>0</td>\n",
       "      <td>0.0</td>\n",
       "      <td>0</td>\n",
       "      <td>NaN</td>\n",
       "    </tr>\n",
       "    <tr>\n",
       "      <th>81</th>\n",
       "      <td>226.0</td>\n",
       "      <td>1900-01-02 09:02:00</td>\n",
       "      <td>3</td>\n",
       "      <td>0.0</td>\n",
       "      <td>3</td>\n",
       "      <td>NaN</td>\n",
       "    </tr>\n",
       "    <tr>\n",
       "      <th>82</th>\n",
       "      <td>227.0</td>\n",
       "      <td>1900-01-02 09:32:00</td>\n",
       "      <td>2</td>\n",
       "      <td>2.0</td>\n",
       "      <td>4</td>\n",
       "      <td>NaN</td>\n",
       "    </tr>\n",
       "    <tr>\n",
       "      <th>83</th>\n",
       "      <td>228.0</td>\n",
       "      <td>1900-01-02 10:02:00</td>\n",
       "      <td>1</td>\n",
       "      <td>0.0</td>\n",
       "      <td>1</td>\n",
       "      <td>NaN</td>\n",
       "    </tr>\n",
       "    <tr>\n",
       "      <th>84</th>\n",
       "      <td>NaN</td>\n",
       "      <td>NaN</td>\n",
       "      <td>251</td>\n",
       "      <td>NaN</td>\n",
       "      <td>433</td>\n",
       "      <td>0.579677</td>\n",
       "    </tr>\n",
       "  </tbody>\n",
       "</table>\n",
       "<p>85 rows × 6 columns</p>\n",
       "</div>"
      ],
      "text/plain": [
       "    Photo Number G0011...                 Time  Sucrose  Peptone  \\\n",
       "0                   145.0             16:32:00        0      0.0   \n",
       "1                   146.0             17:02:00       11      2.0   \n",
       "2                   147.0             17:32:00        8      4.0   \n",
       "3                   148.0             18:02:00       14     11.0   \n",
       "4                   149.0             18:32:00       12     12.0   \n",
       "..                    ...                  ...      ...      ...   \n",
       "80                  225.0  1900-01-02 08:32:00        0      0.0   \n",
       "81                  226.0  1900-01-02 09:02:00        3      0.0   \n",
       "82                  227.0  1900-01-02 09:32:00        2      2.0   \n",
       "83                  228.0  1900-01-02 10:02:00        1      0.0   \n",
       "84                    NaN                  NaN      251      NaN   \n",
       "\n",
       "    Total Foragers  Unnamed: 5  \n",
       "0                0         NaN  \n",
       "1               13         NaN  \n",
       "2               12         NaN  \n",
       "3               25         NaN  \n",
       "4               24         NaN  \n",
       "..             ...         ...  \n",
       "80               0         NaN  \n",
       "81               3         NaN  \n",
       "82               4         NaN  \n",
       "83               1         NaN  \n",
       "84             433    0.579677  \n",
       "\n",
       "[85 rows x 6 columns]"
      ]
     },
     "execution_count": 32,
     "metadata": {},
     "output_type": "execute_result"
    }
   ],
   "source": [
    "dict_meta[\"P v S 2\"]"
   ]
  },
  {
   "cell_type": "code",
   "execution_count": null,
   "metadata": {},
   "outputs": [],
   "source": []
  }
 ],
 "metadata": {
  "kernelspec": {
   "display_name": "tf",
   "language": "python",
   "name": "python3"
  },
  "language_info": {
   "codemirror_mode": {
    "name": "ipython",
    "version": 3
   },
   "file_extension": ".py",
   "mimetype": "text/x-python",
   "name": "python",
   "nbconvert_exporter": "python",
   "pygments_lexer": "ipython3",
   "version": "3.9.13"
  },
  "orig_nbformat": 4,
  "vscode": {
   "interpreter": {
    "hash": "e280c9e8b2a1d33bbe58b6976a0585f8ea2c0c6c7877fc74ad974a82054a5488"
   }
  }
 },
 "nbformat": 4,
 "nbformat_minor": 2
}
